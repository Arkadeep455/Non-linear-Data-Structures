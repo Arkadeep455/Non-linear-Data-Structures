{
  "nbformat": 4,
  "nbformat_minor": 0,
  "metadata": {
    "colab": {
      "provenance": []
    },
    "kernelspec": {
      "name": "python3",
      "display_name": "Python 3"
    },
    "language_info": {
      "name": "python"
    }
  },
  "cells": [
    {
      "cell_type": "code",
      "execution_count": 1,
      "metadata": {
        "id": "8aRc70bGeA4I",
        "colab": {
          "base_uri": "https://localhost:8080/"
        },
        "outputId": "a32db5b2-d133-445e-e7d3-d7789b2b0383"
      },
      "outputs": [
        {
          "output_type": "stream",
          "name": "stdout",
          "text": [
            "a\n",
            "d\n",
            "f\n",
            "e\n",
            "c\n",
            "b\n"
          ]
        }
      ],
      "source": [
        "graph={\n",
        "    \"a\":[\"b\",\"d\"],\n",
        "    \"b\":[],\n",
        "    \"c\":[],\n",
        "    \"d\":[\"e\",\"f\"],\n",
        "    \"e\":[\"c\"],\n",
        "    \"f\":[],\n",
        "    \"g\":[\"f\"]\n",
        "}\n",
        "\n",
        "\n",
        "\n",
        "\n",
        "def dfs(graph,source):\n",
        "  stack=[]\n",
        "  stack.append(source)\n",
        "  while stack:\n",
        "    node=stack.pop(-1)\n",
        "    print(node)\n",
        "    for n in graph[node]:\n",
        "      stack.append(n)\n",
        "\n",
        "\n",
        "dfs(graph,\"a\")\n"
      ]
    },
    {
      "cell_type": "code",
      "source": [
        "graph={\n",
        "    \"a\":[\"b\",\"d\"],\n",
        "    \"b\":[],\n",
        "    \"c\":[],\n",
        "    \"d\":[\"e\",\"f\"],\n",
        "    \"e\":[\"c\"],\n",
        "    \"f\":[],\n",
        "    \"g\":[\"f\"]\n",
        "}\n",
        "\n",
        "\n",
        "def bfs(graph,source):\n",
        "  queue=[]\n",
        "  queue.append(source)\n",
        "  while queue:\n",
        "    node=queue.pop(0)\n",
        "    print(node)\n",
        "    for n in graph[node]:\n",
        "      queue.append(n)\n",
        "\n",
        "\n",
        "bfs(graph,\"a\")\n"
      ],
      "metadata": {
        "colab": {
          "base_uri": "https://localhost:8080/"
        },
        "id": "xB4lZm0QXeaS",
        "outputId": "d6d26ffa-cf3d-47c9-e71f-72fcdbd3b72c"
      },
      "execution_count": 2,
      "outputs": [
        {
          "output_type": "stream",
          "name": "stdout",
          "text": [
            "a\n",
            "b\n",
            "d\n",
            "e\n",
            "f\n",
            "c\n"
          ]
        }
      ]
    }
  ]
}